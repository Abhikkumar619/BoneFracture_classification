{
 "cells": [
  {
   "cell_type": "code",
   "execution_count": 1,
   "metadata": {},
   "outputs": [
    {
     "data": {
      "text/plain": [
       "'/Users/abishekkumaryadav/DataScience/computer_vision/BoneFracture_classification'"
      ]
     },
     "execution_count": 1,
     "metadata": {},
     "output_type": "execute_result"
    }
   ],
   "source": [
    "import os\n",
    "os.chdir(\"../\")\n",
    "os.getcwd()"
   ]
  },
  {
   "cell_type": "code",
   "execution_count": 64,
   "metadata": {},
   "outputs": [],
   "source": [
    "from dataclasses import dataclass\n",
    "from pathlib import Path"
   ]
  },
  {
   "cell_type": "code",
   "execution_count": 65,
   "metadata": {},
   "outputs": [],
   "source": [
    "@dataclass(frozen=True)\n",
    "class ModelTrainingConfig: \n",
    "    root_dir: Path\n",
    "    trained_model_path: Path\n",
    "    augumentation: Path\n",
    "    image_size: list\n",
    "    epoch: int\n",
    "    batch_size: int\n",
    "    train_data_path: Path\n",
    "    valid_data_path: Path\n",
    "    final_model_path: Path\n"
   ]
  },
  {
   "cell_type": "code",
   "execution_count": 66,
   "metadata": {},
   "outputs": [],
   "source": [
    "from src.bone_classifier.constants import *\n",
    "from src.bone_classifier.utils.common import read_yaml, create_directories\n",
    "from src.bone_classifier import log"
   ]
  },
  {
   "cell_type": "code",
   "execution_count": 67,
   "metadata": {},
   "outputs": [],
   "source": [
    "class configurationManager: \n",
    "    def __init__(self, config_file_path=CONFIG_FILE_PATH, \n",
    "                 params_file_path=PARAMS_FILE_PATH) -> None:\n",
    "        self.config=read_yaml(config_file_path)\n",
    "        self.parmas=read_yaml(params_file_path)\n",
    "\n",
    "        create_directories([self.config.artifacts_root])\n",
    "\n",
    "    def get_model_training_config(self)-> ModelTrainingConfig: \n",
    "        config=self.config.model_training\n",
    "        params=self.parmas\n",
    "        create_directories([config.root_dir])\n",
    "\n",
    "        model_training_config=ModelTrainingConfig(\n",
    "            root_dir=config.root_dir,\n",
    "            augumentation=params.AUGMENTATION,\n",
    "            trained_model_path=config.trined_model_path,\n",
    "            image_size=params.IMAGE_SIZE,\n",
    "            batch_size=params.BATCH_SIZE,\n",
    "            epoch=params.EPOCHS,\n",
    "            train_data_path=config.train_data_path,\n",
    "            valid_data_path=config.valid_data_path,\n",
    "            final_model_path=config.final_model_path\n",
    "\n",
    "        )\n",
    "        return model_training_config"
   ]
  },
  {
   "cell_type": "code",
   "execution_count": 68,
   "metadata": {},
   "outputs": [],
   "source": [
    "import keras\n",
    "from keras.applications.inception_v3 import preprocess_input\n",
    "from keras.preprocessing.image import ImageDataGenerator"
   ]
  },
  {
   "cell_type": "code",
   "execution_count": 69,
   "metadata": {},
   "outputs": [],
   "source": [
    "class ModelTraining: \n",
    "    def __init__(self, config: ModelTrainingConfig) -> None:\n",
    "        self.config=config\n",
    "    \n",
    "\n",
    "    def get_base_model(self): \n",
    "        self.model=keras.models.load_model(self.config.trained_model_path)\n",
    "    \n",
    "\n",
    "    def train_valid_generator(self):\n",
    "\n",
    "        train_datagen=ImageDataGenerator(preprocessing_function=preprocess_input)\n",
    "        validation_datagen=ImageDataGenerator(preprocessing_function=preprocess_input)\n",
    "\n",
    "        self.train_generator= train_datagen.flow_from_directory(\n",
    "            self.config.train_data_path,\n",
    "            target_size=(224,224),\n",
    "            batch_size=self.config.batch_size\n",
    "            \n",
    "        )\n",
    "        \n",
    "        self.valid_generator=validation_datagen.flow_from_directory(\n",
    "            self.config.valid_data_path,\n",
    "            target_size=(224,224),\n",
    "            batch_size=self.config.batch_size\n",
    "        )\n",
    "    @staticmethod\n",
    "    def save_model(path: Path, model: keras.models):\n",
    "        model.save(path)\n",
    "\n",
    "    \n",
    "\n",
    "    def train(self):\n",
    "\n",
    "\n",
    "        self.step_per_epoch=self.train_generator.samples // self.train_generator.batch_size\n",
    "        self.validation_steps=self.valid_generator.samples // self.valid_generator.batch_size\n",
    "\n",
    "\n",
    "        \n",
    "        self.model.compile(optimizer='adam', loss='categorical_crossentropy', metrics=['accuracy'])\n",
    "\n",
    "        self.model.fit(self.train_generator, \n",
    "\n",
    "                       epochs=self.config.epoch,\n",
    "                       steps_per_epoch=self.step_per_epoch,\n",
    "                       validation_data=self.valid_generator,\n",
    "                       validation_steps=self.validation_steps)\n",
    "        \n",
    "        self.save_model(path=self.config.final_model_path,\n",
    "                         model=self.model)\n",
    "\n",
    "    "
   ]
  },
  {
   "cell_type": "code",
   "execution_count": 70,
   "metadata": {},
   "outputs": [
    {
     "name": "stdout",
     "output_type": "stream",
     "text": [
      "[2024-03-16 01:43:41,866 : INFO : common : yaml file : config/config.yaml loaded sucessfully]\n",
      "[2024-03-16 01:43:41,868 : INFO : common : yaml file : params.yaml loaded sucessfully]\n",
      "[2024-03-16 01:43:41,868 : INFO : common : Created directories at : artifacts]\n",
      "[2024-03-16 01:43:41,869 : INFO : common : Created directories at : artifacts/training]\n",
      "Found 587 images belonging to 5 classes.\n",
      "Found 73 images belonging to 5 classes.\n",
      "36/36 [==============================] - 13s 330ms/step - loss: 1.3969 - accuracy: 0.5377 - val_loss: 5.1723 - val_accuracy: 0.2969\n"
     ]
    },
    {
     "name": "stderr",
     "output_type": "stream",
     "text": [
      "/Users/abishekkumaryadav/DataScience/computer_vision/BoneFracture_classification/bone_env/lib/python3.8/site-packages/keras/src/engine/training.py:3000: UserWarning: You are saving your model as an HDF5 file via `model.save()`. This file format is considered legacy. We recommend using instead the native Keras format, e.g. `model.save('my_model.keras')`.\n",
      "  saving_api.save_model(\n"
     ]
    }
   ],
   "source": [
    "try: \n",
    "    config=configurationManager()\n",
    "    model_training_config=config.get_model_training_config()\n",
    "    model_training=ModelTraining(model_training_config)\n",
    "    model_training.get_base_model()\n",
    "    model_training.train_valid_generator()\n",
    "    model_training.train()\n",
    "except Exception as e: \n",
    "    raise e "
   ]
  },
  {
   "cell_type": "code",
   "execution_count": null,
   "metadata": {},
   "outputs": [],
   "source": []
  }
 ],
 "metadata": {
  "kernelspec": {
   "display_name": "Python 3",
   "language": "python",
   "name": "python3"
  },
  "language_info": {
   "codemirror_mode": {
    "name": "ipython",
    "version": 3
   },
   "file_extension": ".py",
   "mimetype": "text/x-python",
   "name": "python",
   "nbconvert_exporter": "python",
   "pygments_lexer": "ipython3",
   "version": "3.8.18"
  }
 },
 "nbformat": 4,
 "nbformat_minor": 2
}
