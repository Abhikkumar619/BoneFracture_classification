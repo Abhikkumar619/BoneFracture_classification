{
 "cells": [
  {
   "cell_type": "code",
   "execution_count": 1,
   "metadata": {},
   "outputs": [],
   "source": [
    "import os\n",
    "os.chdir('../')"
   ]
  },
  {
   "cell_type": "code",
   "execution_count": 2,
   "metadata": {},
   "outputs": [
    {
     "data": {
      "text/plain": [
       "'/Users/abishekkumaryadav/DataScience/computer_vision/BoneFracture_classification'"
      ]
     },
     "execution_count": 2,
     "metadata": {},
     "output_type": "execute_result"
    }
   ],
   "source": [
    "os.getcwd()"
   ]
  },
  {
   "cell_type": "code",
   "execution_count": 3,
   "metadata": {},
   "outputs": [],
   "source": [
    "# !pip install tensorflow==2.15.0"
   ]
  },
  {
   "cell_type": "code",
   "execution_count": 4,
   "metadata": {},
   "outputs": [
    {
     "data": {
      "text/plain": [
       "' \\nMLFLOW_TRACKING_URI=https://dagshub.com/Abhikkumar619/BoneFracture_classification.mlflow MLFLOW_TRACKING_USERNAME=Abhikkumar619 MLFLOW_TRACKING_PASSWORD=b515b18fe70cac23bd1c8591a7c54e188845b00c python script.py\\n'"
      ]
     },
     "execution_count": 4,
     "metadata": {},
     "output_type": "execute_result"
    }
   ],
   "source": [
    "# daghub\n",
    "# This is for terminal\n",
    "\"\"\" \n",
    "MLFLOW_TRACKING_URI=https://dagshub.com/Abhikkumar619/BoneFracture_classification.mlflow \\\n",
    "MLFLOW_TRACKING_USERNAME=Abhikkumar619 \\\n",
    "MLFLOW_TRACKING_PASSWORD=b515b18fe70cac23bd1c8591a7c54e188845b00c \\\n",
    "python script.py\n",
    "\"\"\""
   ]
  },
  {
   "cell_type": "code",
   "execution_count": 5,
   "metadata": {},
   "outputs": [],
   "source": [
    "# This is for juypter notebook\n",
    "os.environ['MLFLOW_TRACKING_URI']=\"https://dagshub.com/Abhikkumar619/BoneFracture_classification.mlflow\"\n",
    "os.environ['MLFLOW_TRACKING_USERNAME']=\"Abhikkumar619\"\n",
    "os.environ['MLFLOW_TRACKING_PASSWORD']=\"b515b18fe70cac23bd1c8591a7c54e188845b00c\""
   ]
  },
  {
   "cell_type": "code",
   "execution_count": 6,
   "metadata": {},
   "outputs": [],
   "source": [
    "import tensorflow as tf\n",
    "import keras"
   ]
  },
  {
   "cell_type": "code",
   "execution_count": 7,
   "metadata": {},
   "outputs": [],
   "source": [
    "model=tf.keras.models.load_model(\"artifacts/training/best_model.h5\")"
   ]
  },
  {
   "cell_type": "code",
   "execution_count": 8,
   "metadata": {},
   "outputs": [],
   "source": [
    "from dataclasses import dataclass\n",
    "from pathlib import Path"
   ]
  },
  {
   "cell_type": "code",
   "execution_count": 9,
   "metadata": {},
   "outputs": [],
   "source": [
    "# pip install --upgrade tensorflow"
   ]
  },
  {
   "cell_type": "code",
   "execution_count": 10,
   "metadata": {},
   "outputs": [],
   "source": [
    "@dataclass(frozen=True)\n",
    "class EvaluationConfig: \n",
    "    path_of_model: Path\n",
    "    training_data: Path\n",
    "    all_parmas: dict\n",
    "    mlflow_uri: str\n",
    "    params_image_size: list\n",
    "    params_batch_size: int\n",
    "    train_data_path: Path\n",
    "    valid_data_path: Path\n",
    "    "
   ]
  },
  {
   "cell_type": "code",
   "execution_count": 11,
   "metadata": {},
   "outputs": [],
   "source": [
    "from src.bone_classifier.constants import *\n",
    "from src.bone_classifier import log\n",
    "from src.bone_classifier.utils.common import read_yaml, create_directories, save_json"
   ]
  },
  {
   "cell_type": "code",
   "execution_count": 12,
   "metadata": {},
   "outputs": [],
   "source": [
    "class configurationManager: \n",
    "    def __init__(self, config_file_path=CONFIG_FILE_PATH, \n",
    "                 params_file_path=PARAMS_FILE_PATH) -> None:\n",
    "        self.config=read_yaml(config_file_path)\n",
    "        self.parmas=read_yaml(params_file_path)\n",
    "\n",
    "        create_directories([self.config.artifacts_root])\n",
    "\n",
    "    def get_evaluation_config(self)-> EvaluationConfig: \n",
    "        config=self.config.model_evaluation\n",
    "        params=self.parmas\n",
    "\n",
    "        get_model_evaluation=EvaluationConfig(\n",
    "            path_of_model=config.path_of_model,\n",
    "            training_data=config.training_data,\n",
    "            mlflow_uri=\"https://dagshub.com/Abhikkumar619/BoneFracture_classification.mlflow\",\n",
    "            all_parmas=params,\n",
    "            params_batch_size=params.BATCH_SIZE,\n",
    "            params_image_size=params.IMAGE_SIZE,\n",
    "            train_data_path=config.train_data_path,\n",
    "            valid_data_path=config.valid_data_path\n",
    "            )\n",
    "        return get_model_evaluation"
   ]
  },
  {
   "cell_type": "code",
   "execution_count": 13,
   "metadata": {},
   "outputs": [],
   "source": [
    "import mlflow\n",
    "import mlflow.keras\n",
    "from urllib.parse import urlparse\n",
    "from keras.applications.inception_v3 import preprocess_input\n",
    "from keras.preprocessing.image import ImageDataGenerator\n",
    "from tensorflow import keras\n",
    "\n",
    "import mlflow\n",
    "from tensorflow import keras"
   ]
  },
  {
   "cell_type": "code",
   "execution_count": 14,
   "metadata": {},
   "outputs": [],
   "source": [
    "class Evaluation: \n",
    "    def __init__(self, config: EvaluationConfig) -> None:\n",
    "        self.config=config\n",
    "        \n",
    "    def train_valid_generator(self):\n",
    "        \n",
    "        train_datagen=ImageDataGenerator(preprocessing_function=preprocess_input)\n",
    "        validation_datagen=ImageDataGenerator(preprocessing_function=preprocess_input)\n",
    "\n",
    "        self.train_generator= train_datagen.flow_from_directory(\n",
    "            self.config.train_data_path,\n",
    "            target_size=(224,224),\n",
    "            batch_size=self.config.params_batch_size\n",
    "            \n",
    "        )\n",
    "        \n",
    "        self.valid_generator=validation_datagen.flow_from_directory(\n",
    "            self.config.valid_data_path,\n",
    "            target_size=(224,224),\n",
    "            batch_size=self.config.params_batch_size\n",
    "        )\n",
    "    @staticmethod\n",
    "    def load_models(path: Path): \n",
    "        return tf.keras.models.load_model(path)\n",
    "    \n",
    "    def save_score(self): \n",
    "        score={'loss': self.score[0], \"accuracy\": self.score[1]}\n",
    "        log.info(f\"Score: {score}\")\n",
    "        save_json(path=Path(\"scores.json\"), data=score)\n",
    "\n",
    "    def evaluation(self): \n",
    "        self.model=self.load_models(self.config.path_of_model)\n",
    "        self.train_valid_generator()\n",
    "        self.score=model.evaluate(self.valid_generator)\n",
    "        log.info(f\"Evaluation score: {self.score}\")\n",
    "        self.save_score()\n",
    "\n",
    "    def log_into_mlflow(self):\n",
    "        mlflow.set_registry_uri(self.config.mlflow_uri)\n",
    "        tracking_url_type_store=urlparse(mlflow.get_tracking_uri()).scheme\n",
    "\n",
    "        log.info(f\"tracking url type store { tracking_url_type_store}\")\n",
    "\n",
    "        with mlflow.start_run():\n",
    "            mlflow.log_params(self.config.all_parmas)\n",
    "            mlflow.log_metrics(\n",
    "                {\"loss\":  self.score[0], \"accuracy\": self.score[1]}\n",
    "            )\n",
    "            if tracking_url_type_store != 'file':\n",
    "                mlflow.keras.log_model(self.model, artifact_path=\"model\", registered_model_name=\"inception_v3\")\n",
    "            else:\n",
    "                mlflow.keras.log_model(self.model, artifact_path=\"model\")\n"
   ]
  },
  {
   "cell_type": "code",
   "execution_count": 15,
   "metadata": {},
   "outputs": [
    {
     "name": "stdout",
     "output_type": "stream",
     "text": [
      "[2024-03-16 23:07:21,844 : INFO : common : yaml file : config/config.yaml loaded sucessfully]\n",
      "[2024-03-16 23:07:21,845 : INFO : common : yaml file : params.yaml loaded sucessfully]\n",
      "[2024-03-16 23:07:21,846 : INFO : common : Created directories at : artifacts]\n",
      "Found 587 images belonging to 5 classes.\n",
      "Found 73 images belonging to 5 classes.\n",
      "Found 587 images belonging to 5 classes.\n",
      "Found 73 images belonging to 5 classes.\n"
     ]
    },
    {
     "name": "stderr",
     "output_type": "stream",
     "text": [
      "2024-03-16 23:07:23.043402: I tensorflow/core/common_runtime/executor.cc:1210] [/device:CPU:0] (DEBUG INFO) Executor start aborting (this does not indicate an error and you can ignore this message): INVALID_ARGUMENT: You must feed a value for placeholder tensor 'Placeholder/_0' with dtype int32\n",
      "\t [[{{node Placeholder/_0}}]]\n"
     ]
    },
    {
     "name": "stdout",
     "output_type": "stream",
     "text": [
      "10/10 [==============================] - 2s 116ms/step - loss: 2.0969 - accuracy: 0.5479\n",
      "[2024-03-16 23:07:24,635 : INFO : 2422622669 : Evaluation score: [2.0969204902648926, 0.5479452013969421]]\n",
      "[2024-03-16 23:07:24,635 : INFO : 2422622669 : Score: {'loss': 2.0969204902648926, 'accuracy': 0.5479452013969421}]\n",
      "[2024-03-16 23:07:24,636 : INFO : 2422622669 : tracking url type store https]\n"
     ]
    },
    {
     "name": "stderr",
     "output_type": "stream",
     "text": [
      "2024/03/16 23:07:26 WARNING mlflow.tensorflow: You are saving a TensorFlow Core model or Keras model without a signature. Inference with mlflow.pyfunc.spark_udf() will not work unless the model's pyfunc representation accepts pandas DataFrames as inference inputs.\n"
     ]
    },
    {
     "name": "stdout",
     "output_type": "stream",
     "text": [
      "INFO:tensorflow:Assets written to: /var/folders/4c/smh5_57j6lxd0dns3y7skny80000gn/T/tmpqmo6djef/model/data/model/assets\n",
      "[2024-03-16 23:07:33,427 : INFO : builder_impl : Assets written to: /var/folders/4c/smh5_57j6lxd0dns3y7skny80000gn/T/tmpqmo6djef/model/data/model/assets]\n"
     ]
    },
    {
     "name": "stderr",
     "output_type": "stream",
     "text": [
      "/Users/abishekkumaryadav/DataScience/computer_vision/BoneFracture_classification/bone_env/lib/python3.8/site-packages/_distutils_hack/__init__.py:26: UserWarning: Setuptools is replacing distutils.\n",
      "  warnings.warn(\"Setuptools is replacing distutils.\")\n",
      "Registered model 'inception_v3' already exists. Creating a new version of this model...\n",
      "2024/03/16 23:09:55 INFO mlflow.store.model_registry.abstract_store: Waiting up to 300 seconds for model version to finish creation. Model name: inception_v3, version 4\n",
      "Created version '4' of model 'inception_v3'.\n"
     ]
    }
   ],
   "source": [
    "config=configurationManager()\n",
    "evaluation_config=config.get_evaluation_config()\n",
    "evaluate=Evaluation(evaluation_config)\n",
    "evaluate.train_valid_generator()\n",
    "evaluate.evaluation()\n",
    "evaluate.log_into_mlflow()\n"
   ]
  },
  {
   "cell_type": "code",
   "execution_count": 16,
   "metadata": {},
   "outputs": [
    {
     "name": "stdout",
     "output_type": "stream",
     "text": [
      "2.13.0-rc0\n"
     ]
    }
   ],
   "source": [
    "import tensorflow as tf\n",
    "print(tf.__version__)"
   ]
  },
  {
   "cell_type": "code",
   "execution_count": null,
   "metadata": {},
   "outputs": [],
   "source": []
  }
 ],
 "metadata": {
  "kernelspec": {
   "display_name": "Python 3",
   "language": "python",
   "name": "python3"
  },
  "language_info": {
   "codemirror_mode": {
    "name": "ipython",
    "version": 3
   },
   "file_extension": ".py",
   "mimetype": "text/x-python",
   "name": "python",
   "nbconvert_exporter": "python",
   "pygments_lexer": "ipython3",
   "version": "3.8.18"
  }
 },
 "nbformat": 4,
 "nbformat_minor": 2
}
